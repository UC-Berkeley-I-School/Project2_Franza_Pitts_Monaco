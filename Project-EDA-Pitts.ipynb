{
 "cells": [
  {
   "cell_type": "code",
   "execution_count": 1,
   "id": "b950e06f-8219-4324-b6f3-55c5a046f554",
   "metadata": {},
   "outputs": [
    {
     "name": "stderr",
     "output_type": "stream",
     "text": [
      "/home/apitts175/.local/lib/python3.8/site-packages/pandas/core/computation/expressions.py:20: UserWarning: Pandas requires version '2.7.3' or newer of 'numexpr' (version '2.7.1' currently installed).\n",
      "  from pandas.core.computation.check import NUMEXPR_INSTALLED\n"
     ]
    }
   ],
   "source": [
    "from collections.abc import Sequence\n",
    "import datetime\n",
    "import numpy as np\n",
    "import pandas as pd\n",
    "import requests\n",
    "import matplotlib.pyplot as plt\n",
    "\n",
    "import pyarrow.parquet as pq\n",
    "from tqdm import tqdm\n",
    "\n",
    "%matplotlib inline"
   ]
  },
  {
   "cell_type": "code",
   "execution_count": 2,
   "id": "d52b73b0-4d8d-45fa-b2fd-55de29b280d2",
   "metadata": {},
   "outputs": [],
   "source": [
    "df_languages = pd.read_parquet('./data/language_report_all_agencies.parquet')\n",
    "df_sites = pd.read_parquet('./data/site_report_all_agencies.parquet')\n",
    "df_traffic_source = pd.read_parquet('./data/traffic-source_report_all_agencies.parquet')"
   ]
  },
  {
   "cell_type": "code",
   "execution_count": 3,
   "id": "000b8689-f082-4c3c-b8af-d6214b29f0db",
   "metadata": {},
   "outputs": [],
   "source": [
    "df_sites.drop_duplicates(subset='id', keep='first', inplace=True)\n",
    "df_traffic_source.drop_duplicates(subset='id', keep='first', inplace=True)\n",
    "df_languages.drop_duplicates(subset='id', keep='first', inplace=True)"
   ]
  },
  {
   "cell_type": "markdown",
   "id": "dd0759aa-a070-4233-b82d-5c32c82b40d7",
   "metadata": {},
   "source": [
    "**Question 2: Any missing or null values? Any other gaps in the data?**"
   ]
  },
  {
   "cell_type": "markdown",
   "id": "906ab90b-d32c-4dc6-bc07-3a2d7d28ce28",
   "metadata": {},
   "source": [
    "For each report and column, are there any NaN values"
   ]
  },
  {
   "cell_type": "code",
   "execution_count": 4,
   "id": "4d23f7ff-12a6-4f4c-b53c-9b628bfcc278",
   "metadata": {},
   "outputs": [
    {
     "name": "stdout",
     "output_type": "stream",
     "text": [
      "ITES INFO\n",
      "id               0\n",
      "date             0\n",
      "report_name      0\n",
      "report_agency    0\n",
      "domain           0\n",
      "visits           0\n",
      "dtype: int64\n",
      "df_sites time period: 2020-01-01 00:00:00 - 2023-04-17 00:00:00\n",
      "\n",
      "TRAFFIC_SOURCE INFO\n",
      "id                     0\n",
      "date                   0\n",
      "report_name            0\n",
      "report_agency          0\n",
      "source                 0\n",
      "visits                 0\n",
      "has_social_referral    0\n",
      "dtype: int64\n",
      "df_traffic_source time period: 2020-03-26 00:00:00 - 2023-04-18 00:00:00\n",
      "\n",
      "LANGUAGES INFO\n",
      "id               0\n",
      "date             0\n",
      "report_name      0\n",
      "report_agency    0\n",
      "visits           0\n",
      "language         0\n",
      "dtype: int64\n",
      "df_languages time period: 2020-01-01 00:00:00 - 2023-04-17 00:00:00\n",
      "\n"
     ]
    }
   ],
   "source": [
    "print(\"ITES INFO\")\n",
    "print(df_sites.isna().sum())\n",
    "print(\"df_sites time period:\", df_sites['date'].min(), \"-\", df_sites['date'].max())\n",
    "print()\n",
    "print(\"TRAFFIC_SOURCE INFO\")\n",
    "print(df_traffic_source.isna().sum())\n",
    "print(\"df_traffic_source time period:\", df_traffic_source['date'].min(), \"-\", df_traffic_source['date'].max())\n",
    "print()\n",
    "print(\"LANGUAGES INFO\")\n",
    "print(df_languages.isna().sum())\n",
    "print(\"df_languages time period:\", df_languages['date'].min(), \"-\", df_languages['date'].max())\n",
    "print()"
   ]
  },
  {
   "cell_type": "markdown",
   "id": "09a4e711-14c0-4cbb-8f2c-1ae57e717d19",
   "metadata": {},
   "source": [
    "**Question 2 Answer: There are no missing or null values in our dataset. There is a gap in our data however, where the date range of traffic_source is slightly less than the other two dataset. To compensate for this we can simply cut the date range of all the datasets so that they will match.**"
   ]
  },
  {
   "cell_type": "code",
   "execution_count": 5,
   "id": "147abff3-3cee-4570-8fe2-8f1fbe610925",
   "metadata": {},
   "outputs": [],
   "source": [
    "# cleaning: making all date ranges the same\n",
    "start_date = max(df_sites['date'].min(), df_traffic_source['date'].min(), df_languages['date'].min())\n",
    "end_date = min(df_sites['date'].max(), df_traffic_source['date'].max(), df_languages['date'].max())\n",
    "\n",
    "df_sites = df_sites[df_sites['date'].between(start_date, end_date)]\n",
    "df_traffic_source = df_traffic_source[df_traffic_source['date'].between(start_date, end_date)]\n",
    "df_languages = df_languages[df_languages['date'].between(start_date, end_date)]"
   ]
  },
  {
   "cell_type": "markdown",
   "id": "84b7e593-b983-41ed-a4b7-4130a40711cb",
   "metadata": {},
   "source": [
    "**Question 3: Do aggregate visit values fall within expectations (eg. # visits as % of US population seems realistic)**"
   ]
  },
  {
   "cell_type": "markdown",
   "id": "3f651f36-caf1-49c8-a86b-992734feeb83",
   "metadata": {},
   "source": [
    "Sanity of volume of visits. From the site report, for a given day calculate the number of visits per agency. Compare against each other and see the scale of the value"
   ]
  },
  {
   "cell_type": "code",
   "execution_count": 6,
   "id": "64844f3e-e3f9-46fd-8678-7e4abcd4b5e7",
   "metadata": {},
   "outputs": [
    {
     "name": "stdout",
     "output_type": "stream",
     "text": [
      "Average visits per day: 38361909.98300537\n",
      "Average daily visits as percentage of US population: 11.463257705498581\n"
     ]
    }
   ],
   "source": [
    "total_visits = df_sites['visits'].sum()\n",
    "total_days = (df_sites['date'].max() - df_sites['date'].min()).days + 1\n",
    "avg_visits_per_day = total_visits / total_days\n",
    "\n",
    "# gotten from https://www.census.gov/popclock/ on 4-20-2023\n",
    "us_population = 334651030\n",
    "\n",
    "visits_percentage_of_us_population = avg_visits_per_day / us_population * 100\n",
    "\n",
    "print(\"Average visits per day:\", avg_visits_per_day)\n",
    "print(\"Average daily visits as percentage of US population:\", visits_percentage_of_us_population)"
   ]
  },
  {
   "cell_type": "code",
   "execution_count": 7,
   "id": "7acfbf19-d455-4c5c-b9e2-a0ef32097720",
   "metadata": {},
   "outputs": [
    {
     "name": "stdout",
     "output_type": "stream",
     "text": [
      "Visits per agency on 2020-03-26 00:00:00\n",
      "report_agency\n",
      "health-human-services             28450354\n",
      "postal-service                    12207292\n",
      "social-security-administration     1018944\n",
      "treasury                           6026646\n",
      "Name: visits, dtype: int64\n",
      "\n",
      "Visits per agency as percentage of US population on 2020-03-26 00:00:00\n",
      "report_agency\n",
      "health-human-services             8.501499\n",
      "postal-service                    3.647768\n",
      "social-security-administration    0.304480\n",
      "treasury                          1.800875\n",
      "Name: visits, dtype: float64\n"
     ]
    }
   ],
   "source": [
    "def visits_on_day(check_date):\n",
    "    visits_per_agency = df_sites[df_sites['date'] == check_date].groupby(['report_agency'])['visits'].sum()\n",
    "\n",
    "    print(\"Visits per agency on \" + str(check_date))\n",
    "    print(visits_per_agency)\n",
    "    print()\n",
    "    print(\"Visits per agency as percentage of US population on \" + str(check_date))\n",
    "    print(visits_per_agency / us_population * 100)\n",
    "    \n",
    "check_date = df_traffic_source['date'].min()\n",
    "visits_on_day(check_date)"
   ]
  },
  {
   "cell_type": "markdown",
   "id": "b492186c-af65-4fb6-a088-a8d532a3f97a",
   "metadata": {},
   "source": [
    "**Question 3 Answer: Our results fall within realistic expectations**"
   ]
  },
  {
   "cell_type": "markdown",
   "id": "62b3e24d-61e7-4b47-8659-156927a4adbb",
   "metadata": {},
   "source": [
    "**What are the most common sources of traffic to sites of each of the different agencies? What are the sources that grew the most y/y in 2022 (vs 2021)**"
   ]
  },
  {
   "cell_type": "markdown",
   "id": "a0e4da4c-fb79-4aa8-9f98-03afe8b98906",
   "metadata": {},
   "source": [
    "Plot: cumulative visits per source (filter by top 5 sources) during 2022 for each agency"
   ]
  },
  {
   "cell_type": "code",
   "execution_count": 8,
   "id": "3743eb20-ca6c-4c44-bc86-429879c1bb42",
   "metadata": {},
   "outputs": [
    {
     "name": "stdout",
     "output_type": "stream",
     "text": [
      "Top 5 Most Common Sources of Traffic For Each Agency\n",
      "\n",
      "                                                             visits\n",
      "report_agency                  source                              \n",
      "health-human-services          google                     494638104\n",
      "                               (direct)                   100717595\n",
      "                               pubmed.ncbi.nlm.nih.gov     27533997\n",
      "                               bing                        17104640\n",
      "                               ncbi.nlm.nih.gov            10471991\n",
      "postal-service                 (direct)                   175586387\n",
      "                               reg.usps.com               103254300\n",
      "                               google                      90244097\n",
      "                               usps.com                    74973767\n",
      "                               informeddelivery.usps.com   38648380\n",
      "social-security-administration google                     171627864\n",
      "                               (direct)                    82416032\n",
      "                               ssa.gov                     33199068\n",
      "                               secure.ssa.gov              26579431\n",
      "                               bing                        19558870\n",
      "treasury                       google                     191217858\n",
      "                               irs.gov                    115771684\n",
      "                               (direct)                    88115769\n",
      "                               sa.www4.irs.gov             38957160\n",
      "                               bing                        13778256\n"
     ]
    }
   ],
   "source": [
    "# prints the top 5 most common sources of traffic for each agency\n",
    "grouped_traffic = df_traffic_source.groupby(['report_agency', 'source']).agg({'visits': 'sum'})\n",
    "sorted_traffic = grouped_traffic.sort_values(['report_agency', 'visits'], ascending=[True, False])\n",
    "top_traffic_sources = sorted_traffic.groupby('report_agency').head(5)\n",
    "print('Top 5 Most Common Sources of Traffic For Each Agency')\n",
    "print()\n",
    "print(top_traffic_sources)"
   ]
  },
  {
   "cell_type": "code",
   "execution_count": 9,
   "id": "a0530eb1-0cfa-41ec-b6af-91973999b3a9",
   "metadata": {},
   "outputs": [
    {
     "name": "stdout",
     "output_type": "stream",
     "text": [
      "Top 10 Highest Percentage Changes in Visits For Each Traffic Source From 2021 to 2022\n",
      "\n",
      "                             Percentage Change in Visits\n",
      "source                 date                             \n",
      "secure.login.gov       2022                  4259.307975\n",
      "api.id.me              2022                   104.368075\n",
      "qa.pay.gov             2022                    85.107692\n",
      "caweb.sba.gov          2022                    59.016515\n",
      "thekrazycouponlady.com 2022                    55.965812\n",
      "informeddelivery       2022                    51.246553\n",
      "afdc.energy.gov        2022                    43.067720\n",
      "pesquisa.bvsalud.org   2022                    36.358491\n",
      "pnas.org               2022                    35.545946\n",
      "browsinginfo.com       2022                    35.211618\n"
     ]
    }
   ],
   "source": [
    "# print the top 10 highest percentage changes in visits for each traffic source\n",
    "df_traffic_source_21_22 = df_traffic_source[df_traffic_source['date'].dt.year.isin([2021, 2022])]\n",
    "grouped_traffic_21_22 = df_traffic_source_21_22.groupby(['source', df_traffic_source_21_22['date'].dt.year]).agg({'visits': 'sum'})\n",
    "pct_change_traffic = grouped_traffic_21_22.unstack().pct_change(axis=1).stack()\n",
    "sorted_pct_change_traffic = pct_change_traffic.rename(columns={'visits': 'Percentage Change in Visits'}).sort_values(by='Percentage Change in Visits', ascending=False)\n",
    "print('Top 10 Highest Percentage Changes in Visits For Each Traffic Source From 2021 to 2022')\n",
    "print()\n",
    "print(sorted_pct_change_traffic.head(10))"
   ]
  },
  {
   "cell_type": "markdown",
   "id": "e96a3d95-8bb8-4f9c-a22c-57c0bc799ad2",
   "metadata": {},
   "source": [
    "**How many languages do sites from different agencies support? Are there any notable differences between language distribution across the 4 agencies selected? (for example: social-security might be x% ES language whereas 'postal-service' might be y%)**"
   ]
  },
  {
   "cell_type": "markdown",
   "id": "c4a52c7a-6d7f-4f04-b94f-9a8e798570a1",
   "metadata": {},
   "source": [
    "If possible, combine all english languages into one bucket, and same for other languages  \n",
    "412 unique languages  \n",
    "Plot: stacked bar chart showing % distribution of top languages by agency"
   ]
  },
  {
   "cell_type": "code",
   "execution_count": 10,
   "id": "e29e6aef-0857-4594-896c-9113795e789e",
   "metadata": {},
   "outputs": [
    {
     "data": {
      "text/plain": [
       "language\n",
       "en           38262603021\n",
       "es            2889688530\n",
       "zh             889932940\n",
       "fr             234448939\n",
       "de             211227443\n",
       "ja             196321952\n",
       "pt             191797959\n",
       "it             146112135\n",
       "ko             129709991\n",
       "ru             110142895\n",
       "nl              87391156\n",
       "tr              83505461\n",
       "ar              68026418\n",
       "vi              60076775\n",
       "pl              49107907\n",
       "sv              38792751\n",
       "id              31172528\n",
       "el              28860071\n",
       "da              25968593\n",
       "th              25548960\n",
       "nb              22676596\n",
       "he              18345134\n",
       "ca              16394733\n",
       "cs              15810403\n",
       "fi              15171187\n",
       "hu              14555696\n",
       "ro              14060736\n",
       "sk               9389538\n",
       "hr               8295742\n",
       "(not set)        8132958\n",
       "fa               7511044\n",
       "uk               6794352\n",
       "c                6221171\n",
       "sl               5367442\n",
       "bg               4550113\n",
       "sr               3995619\n",
       "lt               3897723\n",
       "hi               3694980\n",
       "lv               1768550\n",
       "et               1647537\n",
       "fil              1410558\n",
       "ms               1101950\n",
       "ka                687658\n",
       "mr                533973\n",
       "haw               484506\n",
       "gl                470287\n",
       "bs                445846\n",
       "bn                441560\n",
       "ta                440589\n",
       "eu                425552\n",
       "Name: visits, dtype: int64"
      ]
     },
     "execution_count": 10,
     "metadata": {},
     "output_type": "execute_result"
    }
   ],
   "source": [
    "# reduce our languages subtypes to the main language supported and combine\n",
    "import langcodes\n",
    "\n",
    "df_languages['language'] = df_languages['language'].apply(lambda x: x.split('-')[0])\n",
    "df_languages.groupby('language')['visits'].sum().sort_values(ascending=False).head(50)"
   ]
  },
  {
   "cell_type": "code",
   "execution_count": 11,
   "id": "5443d4c4-74b8-4d42-ab8a-e187b7a48df8",
   "metadata": {},
   "outputs": [
    {
     "name": "stdout",
     "output_type": "stream",
     "text": [
      "['en' 'es' 'zh' 'pt' 'fr' 'ko' 'it' 'de' 'ja' 'ru' 'nl' 'tr' 'ar' 'pl'\n",
      " 'sv' 'da' 'el' 'id' 'nb' 'vi' 'th' 'he' 'fi' 'hu' 'cs' 'ro' 'ca'\n",
      " '(not set)' 'hr' 'sk' 'sl' 'bg' 'uk' 'fa' 'c' 'lt' 'sr' 'et' 'lv' 'hi'\n",
      " 'fil' 'ms' 'is' 'mk' 'my' 'bs' 'ka' 'az' 'mr' 'eu' 'gl' 'ta' 'cy' 'sq'\n",
      " 'bn' 'te' 'af' 'gu' 'am' 'pa' 'km' 'tl' 'ga' 'kn' 'kk' 'mn' 'no' 'us'\n",
      " 'uz' 'qz' 'haw' 'jp' 'ml' 'en@us' 'zz' 'ur' 'lo' 'mi' 'to' 'bo' 'nn' 'ig'\n",
      " 'iw' 'hy' 'sw' 'be' 'ckb' 'la' 'sm' 'yue' 'yo' 'q=0.8' 'q=0.9' 'lkt' 'co'\n",
      " 'as' 'ht' 'so']\n"
     ]
    }
   ],
   "source": [
    "# see the unique languages\n",
    "unique_languages = df_languages['language'].unique()\n",
    "print(unique_languages)"
   ]
  },
  {
   "cell_type": "code",
   "execution_count": 12,
   "id": "b6db75cc-1436-4072-ad4c-1613ae549dc1",
   "metadata": {},
   "outputs": [
    {
     "name": "stdout",
     "output_type": "stream",
     "text": [
      "['(not set)', 'c', 'en@us', 'q=0.8', 'q=0.9']\n",
      "\n",
      "['English', 'Spanish', 'Chinese', 'Portuguese', 'French', 'Korean', 'Italian', 'German', 'Japanese', 'Russian', 'Dutch', 'Turkish', 'Arabic', 'Polish', 'Swedish', 'Danish', 'Greek', 'Indonesian', 'Norwegian Bokmål', 'Vietnamese', 'Thai', 'Hebrew', 'Finnish', 'Hungarian', 'Czech', 'Romanian', 'Catalan', 'Croatian', 'Slovak', 'Slovenian', 'Bulgarian', 'Ukrainian', 'Persian', 'Lithuanian', 'Serbian', 'Estonian', 'Latvian', 'Hindi', 'Filipino', 'Malay', 'Icelandic', 'Macedonian', 'Burmese', 'Bosnian', 'Georgian', 'Azerbaijani', 'Marathi', 'Basque', 'Galician', 'Tamil', 'Welsh', 'Albanian', 'Bangla', 'Telugu', 'Afrikaans', 'Gujarati', 'Amharic', 'Punjabi', 'Khmer', 'Filipino', 'Irish', 'Kannada', 'Kazakh', 'Mongolian', 'Norwegian', 'Unknown language [us]', 'Uzbek', 'Unknown language [qz]', 'Hawaiian', 'Unknown language [jp]', 'Malayalam', 'Unknown language [zz]', 'Urdu', 'Lao', 'Māori', 'Tongan', 'Tibetan', 'Norwegian Nynorsk', 'Igbo', 'Hebrew', 'Armenian', 'Swahili', 'Belarusian', 'Central Kurdish', 'Latin', 'Samoan', 'Cantonese', 'Yoruba', 'Lakota', 'Corsican', 'Assamese', 'Haitian Creole', 'Somali']\n",
      "\n",
      "93\n"
     ]
    }
   ],
   "source": [
    "# identify the problem languages that are not recognized as valid language codes\n",
    "recognized_languages = []\n",
    "problem_languages = []\n",
    "\n",
    "for lang in unique_languages:\n",
    "    try:\n",
    "        recognized_languages.append(langcodes.Language.get(lang).display_name())\n",
    "    except:\n",
    "        problem_languages.append(lang)\n",
    "\n",
    "print(problem_languages)\n",
    "print()\n",
    "print(recognized_languages)\n",
    "print()\n",
    "print(len(recognized_languages))"
   ]
  },
  {
   "cell_type": "code",
   "execution_count": 13,
   "id": "2874d1da-82a7-4032-9565-865aebb97a04",
   "metadata": {},
   "outputs": [],
   "source": [
    "# set the valid language codes to their language word\n",
    "langcodes.Language.get('en').display_name()\n",
    "\n",
    "def get_language_name(lang_code):\n",
    "    try:\n",
    "        return langcodes.Language.get(lang_code).language_name()\n",
    "    except:\n",
    "        return lang_code\n",
    "\n",
    "df_languages['language'] = df_languages['language'].apply(get_language_name)"
   ]
  },
  {
   "cell_type": "code",
   "execution_count": 14,
   "id": "79b3d6d3-2fbe-4ce2-8f6c-44ba9330ec66",
   "metadata": {},
   "outputs": [
    {
     "name": "stdout",
     "output_type": "stream",
     "text": [
      "Top 10 Languages by Visits Across All Agencies\n",
      "\n"
     ]
    },
    {
     "data": {
      "text/plain": [
       "language\n",
       "English       38262603021\n",
       "Spanish        2889688530\n",
       "Chinese         889932940\n",
       "French          234448939\n",
       "German          211227443\n",
       "Japanese        196321952\n",
       "Portuguese      191797959\n",
       "Italian         146112135\n",
       "Korean          129709991\n",
       "Russian         110142895\n",
       "Name: visits, dtype: int64"
      ]
     },
     "execution_count": 14,
     "metadata": {},
     "output_type": "execute_result"
    }
   ],
   "source": [
    "print('Top 10 Languages by Visits Across All Agencies')\n",
    "print()\n",
    "df_languages.groupby('language')['visits'].sum().sort_values(ascending=False).head(10)"
   ]
  },
  {
   "cell_type": "code",
   "execution_count": 15,
   "id": "a0df1dfe-26d4-4c1c-afac-a87ffb2c5c6c",
   "metadata": {},
   "outputs": [
    {
     "name": "stdout",
     "output_type": "stream",
     "text": [
      "Agency: health-human-services\n",
      "                                               visits\n",
      "report_agency         language                       \n",
      "health-human-services English            7.421869e+01\n",
      "                      Spanish            1.285149e+01\n",
      "                      Chinese            4.186847e+00\n",
      "                      French             1.037845e+00\n",
      "                      German             9.343562e-01\n",
      "...                                               ...\n",
      "                      Tibetan            6.175038e-07\n",
      "                      Armenian           6.020662e-07\n",
      "                      Belarusian         5.814827e-07\n",
      "                      Norwegian Nynorsk  5.608993e-07\n",
      "                      Igbo               5.506075e-07\n",
      "\n",
      "[85 rows x 1 columns]\n",
      "Agency: postal-service\n",
      "                                visits\n",
      "report_agency  language               \n",
      "postal-service English    9.706176e+01\n",
      "               Spanish    1.517573e+00\n",
      "               Chinese    3.476570e-01\n",
      "               French     1.701957e-01\n",
      "               German     1.560948e-01\n",
      "...                                ...\n",
      "               Mongolian  9.313506e-07\n",
      "               Burmese    7.830463e-07\n",
      "               Punjabi    6.406743e-07\n",
      "               Assamese   6.347421e-07\n",
      "               Latin      6.050813e-07\n",
      "\n",
      "[63 rows x 1 columns]\n",
      "Agency: social-security-administration\n",
      "                                                    visits\n",
      "report_agency                  language                   \n",
      "social-security-administration English           97.712864\n",
      "                               Spanish            1.636466\n",
      "                               Chinese            0.187670\n",
      "                               Korean             0.086427\n",
      "                               Russian            0.058147\n",
      "                               French             0.049255\n",
      "                               Portuguese         0.045804\n",
      "                               German             0.045080\n",
      "                               Japanese           0.041869\n",
      "                               Dutch              0.032977\n",
      "                               Vietnamese         0.021711\n",
      "                               Polish             0.018525\n",
      "                               Italian            0.017778\n",
      "                               Turkish            0.015059\n",
      "                               Arabic             0.007758\n",
      "                               Swedish            0.007266\n",
      "                               Hebrew             0.003807\n",
      "                               Ukrainian          0.003546\n",
      "                               Greek              0.002436\n",
      "                               Thai               0.002092\n",
      "                               Persian            0.001628\n",
      "                               c                  0.000855\n",
      "                               Indonesian         0.000559\n",
      "                               Romanian           0.000161\n",
      "                               Danish             0.000157\n",
      "                               Georgian           0.000056\n",
      "                               Norwegian Bokmål   0.000037\n",
      "                               Armenian           0.000009\n",
      "Agency: treasury\n",
      "                            visits\n",
      "report_agency language            \n",
      "treasury      English    97.481033\n",
      "              Spanish     1.804064\n",
      "              Chinese     0.238278\n",
      "              Russian     0.083144\n",
      "              Korean      0.065151\n",
      "...                            ...\n",
      "              Armenian    0.000002\n",
      "              Malay       0.000002\n",
      "              Mongolian   0.000002\n",
      "              Tamil       0.000002\n",
      "              Hindi       0.000002\n",
      "\n",
      "[68 rows x 1 columns]\n"
     ]
    }
   ],
   "source": [
    "df_agency_languages = df_languages.groupby(['report_agency', 'language']).agg({'visits': 'sum'})\n",
    "df_agency_languages = df_agency_languages.groupby(level=0).apply(lambda x: 100 * x / float(x.sum().item()))\n",
    "\n",
    "for agency in df_agency_languages.index.levels[0]:\n",
    "    print(f\"Agency: {agency}\")\n",
    "    agency_langs = df_agency_languages.loc[agency].sort_values(by='visits', ascending=False)\n",
    "    print(agency_langs)"
   ]
  },
  {
   "cell_type": "code",
   "execution_count": 16,
   "id": "2772762a-4dc3-4a12-a1bb-ca74a37cd153",
   "metadata": {},
   "outputs": [
    {
     "data": {
      "image/png": "[encoded data removed]",
      "text/plain": [
       "<Figure size 1200x600 with 1 Axes>"
      ]
     },
     "metadata": {},
     "output_type": "display_data"
    }
   ],
   "source": [
    "df_subset = df_languages[['report_agency', 'language', 'visits']]\n",
    "\n",
    "df_grouped = df_subset.groupby(['report_agency', 'language']).sum().reset_index()\n",
    "\n",
    "top_5_languages = df_grouped.groupby('report_agency').apply(lambda x: x.nlargest(5, 'visits'))\n",
    "\n",
    "pivot_table = top_5_languages.pivot(index='report_agency', columns='language', values='visits')\n",
    "\n",
    "ax = pivot_table.plot(kind='bar', stacked=True, figsize=(12,6))\n",
    "\n",
    "ax.set_xlabel('Agency')\n",
    "ax.set_ylabel('Number of Visits')\n",
    "ax.set_title('Top 5 Languages Used in Visits by Agency')\n",
    "\n",
    "plt.show()"
   ]
  },
  {
   "cell_type": "code",
   "execution_count": 17,
   "id": "f3c2bc40-7219-4548-b960-0d7c1e5ac4f7",
   "metadata": {},
   "outputs": [
    {
     "data": {
      "image/png": "[encoded data removed]",
      "text/plain": [
       "<Figure size 1200x600 with 1 Axes>"
      ]
     },
     "metadata": {},
     "output_type": "display_data"
    }
   ],
   "source": [
    "df_subset = df_languages[['report_agency', 'language', 'visits']]\n",
    "\n",
    "df_non_english = df_subset[df_subset['language'] != 'English']\n",
    "\n",
    "df_grouped = df_non_english.groupby(['report_agency', 'language']).sum().reset_index()\n",
    "\n",
    "top_5_languages = df_grouped.groupby('report_agency').apply(lambda x: x.nlargest(5, 'visits'))\n",
    "\n",
    "pivot_table = top_5_languages.pivot(index='report_agency', columns='language', values='visits')\n",
    "\n",
    "ax = pivot_table.plot(kind='bar', stacked=True, figsize=(12,6))\n",
    "\n",
    "ax.set_xlabel('Agency')\n",
    "ax.set_ylabel('Number of Visits')\n",
    "ax.set_title('Top 5 Non-English Languages Used in Visits by Agency')\n",
    "\n",
    "plt.show()"
   ]
  }
 ],
 "metadata": {
  "kernelspec": {
   "display_name": "Python 3 (ipykernel)",
   "language": "python",
   "name": "python3"
  },
  "language_info": {
   "codemirror_mode": {
    "name": "ipython",
    "version": 3
   },
   "file_extension": ".py",
   "mimetype": "text/x-python",
   "name": "python",
   "nbconvert_exporter": "python",
   "pygments_lexer": "ipython3",
   "version": "3.8.10"
  }
 },
 "nbformat": 4,
 "nbformat_minor": 5
}
